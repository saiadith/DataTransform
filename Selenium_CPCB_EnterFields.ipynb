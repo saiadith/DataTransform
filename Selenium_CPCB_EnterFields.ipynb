{
  "cells": [
    {
      "cell_type": "markdown",
      "id": "dcbbabba",
      "metadata": {
        "id": "dcbbabba"
      },
      "source": [
        "\n",
        "# Scraping a Dynamic Website with Selenium\n",
        "In this notebook, we will demonstrate how to use Selenium to interact with a dynamic website: [CPCB Air Quality Data Repository](https://airquality.cpcb.gov.in/ccr/#/caaqm-dashboard-all/caaqm-landing/caaqm-data-repository).\n",
        "\n",
        "We will programmatically select:\n",
        "- Data Type: `Raw Data`\n",
        "- Frequency: `1 day`\n",
        "- A State, City, and Station\n",
        "- Click the Submit button\n",
        "- Observe the download section\n",
        "\n",
        "This example uses **Selenium** with **ChromeDriver**. Ensure you have the following installed:\n",
        "- selenium\n",
        "- webdriver_manager\n",
        "\n",
        "> Note: This script launches a visible browser so you can observe interactions in real-time.\n"
      ]
    },
    {
      "cell_type": "code",
      "execution_count": null,
      "id": "5f0e558a",
      "metadata": {
        "id": "5f0e558a",
        "outputId": "c25846d1-ee56-4c2f-b243-998f7ad9d352"
      },
      "outputs": [
        {
          "name": "stdout",
          "output_type": "stream",
          "text": [
            "Requirement already satisfied: selenium in c:\\users\\senai\\anaconda3\\lib\\site-packages (4.32.0)\n",
            "Requirement already satisfied: webdriver-manager in c:\\users\\senai\\anaconda3\\lib\\site-packages (4.0.2)\n",
            "Requirement already satisfied: urllib3<3,>=1.26 in c:\\users\\senai\\anaconda3\\lib\\site-packages (from urllib3[socks]<3,>=1.26->selenium) (2.2.2)\n",
            "Requirement already satisfied: trio~=0.17 in c:\\users\\senai\\anaconda3\\lib\\site-packages (from selenium) (0.30.0)\n",
            "Requirement already satisfied: trio-websocket~=0.9 in c:\\users\\senai\\anaconda3\\lib\\site-packages (from selenium) (0.12.2)\n",
            "Requirement already satisfied: certifi>=2021.10.8 in c:\\users\\senai\\anaconda3\\lib\\site-packages (from selenium) (2024.8.30)\n",
            "Requirement already satisfied: typing_extensions~=4.9 in c:\\users\\senai\\anaconda3\\lib\\site-packages (from selenium) (4.11.0)\n",
            "Requirement already satisfied: websocket-client~=1.8 in c:\\users\\senai\\anaconda3\\lib\\site-packages (from selenium) (1.8.0)\n",
            "Requirement already satisfied: requests in c:\\users\\senai\\anaconda3\\lib\\site-packages (from webdriver-manager) (2.32.2)\n",
            "Requirement already satisfied: python-dotenv in c:\\users\\senai\\anaconda3\\lib\\site-packages (from webdriver-manager) (0.21.0)\n",
            "Requirement already satisfied: packaging in c:\\users\\senai\\anaconda3\\lib\\site-packages (from webdriver-manager) (23.2)\n",
            "Requirement already satisfied: attrs>=23.2.0 in c:\\users\\senai\\anaconda3\\lib\\site-packages (from trio~=0.17->selenium) (25.3.0)\n",
            "Requirement already satisfied: sortedcontainers in c:\\users\\senai\\anaconda3\\lib\\site-packages (from trio~=0.17->selenium) (2.4.0)\n",
            "Requirement already satisfied: idna in c:\\users\\senai\\anaconda3\\lib\\site-packages (from trio~=0.17->selenium) (3.7)\n",
            "Requirement already satisfied: outcome in c:\\users\\senai\\anaconda3\\lib\\site-packages (from trio~=0.17->selenium) (1.3.0.post0)\n",
            "Requirement already satisfied: sniffio>=1.3.0 in c:\\users\\senai\\anaconda3\\lib\\site-packages (from trio~=0.17->selenium) (1.3.0)\n",
            "Requirement already satisfied: cffi>=1.14 in c:\\users\\senai\\anaconda3\\lib\\site-packages (from trio~=0.17->selenium) (1.16.0)\n",
            "Requirement already satisfied: wsproto>=0.14 in c:\\users\\senai\\anaconda3\\lib\\site-packages (from trio-websocket~=0.9->selenium) (1.2.0)\n",
            "Requirement already satisfied: pysocks!=1.5.7,<2.0,>=1.5.6 in c:\\users\\senai\\anaconda3\\lib\\site-packages (from urllib3[socks]<3,>=1.26->selenium) (1.7.1)\n",
            "Requirement already satisfied: charset-normalizer<4,>=2 in c:\\users\\senai\\anaconda3\\lib\\site-packages (from requests->webdriver-manager) (2.0.4)\n",
            "Requirement already satisfied: pycparser in c:\\users\\senai\\anaconda3\\lib\\site-packages (from cffi>=1.14->trio~=0.17->selenium) (2.21)\n",
            "Requirement already satisfied: h11<1,>=0.9.0 in c:\\users\\senai\\anaconda3\\lib\\site-packages (from wsproto>=0.14->trio-websocket~=0.9->selenium) (0.14.0)\n"
          ]
        }
      ],
      "source": [
        "\n",
        "# Install necessary packages (uncomment if needed)\n",
        "!pip install selenium webdriver-manager\n"
      ]
    },
    {
      "cell_type": "code",
      "execution_count": null,
      "id": "e3467133",
      "metadata": {
        "id": "e3467133"
      },
      "outputs": [],
      "source": [
        "\n",
        "from selenium import webdriver\n",
        "from selenium.webdriver.chrome.service import Service\n",
        "from webdriver_manager.chrome import ChromeDriverManager\n",
        "from selenium.webdriver.common.by import By\n",
        "from selenium.webdriver.support.ui import WebDriverWait\n",
        "from selenium.webdriver.support import expected_conditions as EC\n",
        "import time\n",
        "\n",
        "# Launch Chrome browser\n",
        "driver = webdriver.Chrome(service=Service(ChromeDriverManager().install()))\n",
        "driver.get(\"https://airquality.cpcb.gov.in/ccr/#/caaqm-dashboard-all/caaqm-landing/caaqm-data-repository\")\n",
        "driver.maximize_window()\n",
        "wait = WebDriverWait(driver, 20)\n"
      ]
    },
    {
      "cell_type": "markdown",
      "id": "bd50e697",
      "metadata": {
        "id": "bd50e697"
      },
      "source": [
        "### Step 1: Select 'Raw Data' in the Data Type dropdown"
      ]
    },
    {
      "cell_type": "code",
      "execution_count": null,
      "id": "b8273df5",
      "metadata": {
        "id": "b8273df5"
      },
      "outputs": [],
      "source": [
        "\n",
        "# Click the Data Type ng-select (first one)\n",
        "data_type_field = wait.until(EC.element_to_be_clickable((By.XPATH, \"(//ng-select)[1]\")))\n",
        "data_type_field.click()\n",
        "time.sleep(1)\n",
        "raw_data_option = wait.until(EC.element_to_be_clickable((By.XPATH, \"//li[contains(text(), 'Raw data')]\")))\n",
        "raw_data_option.click()\n"
      ]
    },
    {
      "cell_type": "markdown",
      "id": "553b1c99",
      "metadata": {
        "id": "553b1c99"
      },
      "source": [
        "### Step 2: Select '1 day' in the Frequency dropdown"
      ]
    },
    {
      "cell_type": "code",
      "execution_count": null,
      "id": "8e64da27",
      "metadata": {
        "id": "8e64da27"
      },
      "outputs": [],
      "source": [
        "\n",
        "# Click the Frequency ng-select (second one)\n",
        "frequency_field = wait.until(EC.element_to_be_clickable((By.XPATH, \"(//ng-select)[2]\")))\n",
        "frequency_field.click()\n",
        "time.sleep(1)\n",
        "one_day_option = wait.until(EC.element_to_be_clickable((By.XPATH, \"//li[contains(text(), '1 day')]\")))\n",
        "one_day_option.click()\n"
      ]
    },
    {
      "cell_type": "markdown",
      "id": "2dcac97b",
      "metadata": {
        "id": "2dcac97b"
      },
      "source": [
        "### Step 3: Select a State"
      ]
    },
    {
      "cell_type": "code",
      "execution_count": null,
      "id": "fc75dc9d",
      "metadata": {
        "id": "fc75dc9d"
      },
      "outputs": [],
      "source": [
        "\n",
        "state_field = wait.until(EC.element_to_be_clickable((By.XPATH, \"(//ng-select)[3]\")))\n",
        "state_field.click()\n",
        "time.sleep(1)\n",
        "first_state_option = wait.until(EC.element_to_be_clickable((By.XPATH, \"(//div[@class='options']/ul/li)[2]\")))\n",
        "first_state_option.click()\n"
      ]
    },
    {
      "cell_type": "markdown",
      "id": "58648e4a",
      "metadata": {
        "id": "58648e4a"
      },
      "source": [
        "### Step 4: Select a City"
      ]
    },
    {
      "cell_type": "code",
      "execution_count": null,
      "id": "4ea5318f",
      "metadata": {
        "id": "4ea5318f"
      },
      "outputs": [],
      "source": [
        "\n",
        "time.sleep(2)\n",
        "city_field = wait.until(EC.element_to_be_clickable((By.XPATH, \"(//ng-select)[4]\")))\n",
        "city_field.click()\n",
        "time.sleep(1)\n",
        "first_city_option = wait.until(EC.element_to_be_clickable((By.XPATH, \"(//div[@class='options']/ul/li)[2]\")))\n",
        "first_city_option.click()\n"
      ]
    },
    {
      "cell_type": "markdown",
      "id": "a351a216",
      "metadata": {
        "id": "a351a216"
      },
      "source": [
        "### Step 5: Select a Station"
      ]
    },
    {
      "cell_type": "code",
      "execution_count": null,
      "id": "d27f95c7",
      "metadata": {
        "id": "d27f95c7"
      },
      "outputs": [],
      "source": [
        "\n",
        "time.sleep(2)\n",
        "station_field = wait.until(EC.element_to_be_clickable((By.XPATH, \"(//ng-select)[5]\")))\n",
        "station_field.click()\n",
        "time.sleep(1)\n",
        "first_station_option = wait.until(EC.element_to_be_clickable((By.XPATH, \"(//div[@class='options']/ul/li)[1]\")))\n",
        "first_station_option.click()\n"
      ]
    },
    {
      "cell_type": "markdown",
      "id": "2627559d",
      "metadata": {
        "id": "2627559d"
      },
      "source": [
        "### Step 6: Submit the form"
      ]
    },
    {
      "cell_type": "code",
      "execution_count": null,
      "id": "83260398",
      "metadata": {
        "id": "83260398"
      },
      "outputs": [],
      "source": [
        "\n",
        "submit_btn = wait.until(EC.element_to_be_clickable((By.XPATH, \"//button[contains(text(),'Submit')]\")))\n",
        "submit_btn.click()\n"
      ]
    }
  ],
  "metadata": {
    "kernelspec": {
      "display_name": "Python 3 (ipykernel)",
      "language": "python",
      "name": "python3"
    },
    "language_info": {
      "codemirror_mode": {
        "name": "ipython",
        "version": 3
      },
      "file_extension": ".py",
      "mimetype": "text/x-python",
      "name": "python",
      "nbconvert_exporter": "python",
      "pygments_lexer": "ipython3",
      "version": "3.12.4"
    },
    "colab": {
      "provenance": []
    }
  },
  "nbformat": 4,
  "nbformat_minor": 5
}